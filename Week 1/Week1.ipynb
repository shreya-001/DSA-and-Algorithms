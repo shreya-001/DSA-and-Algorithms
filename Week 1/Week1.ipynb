{
 "cells": [
  {
   "cell_type": "markdown",
   "metadata": {},
   "source": [
    "# UNION FIND PROBLEM\n",
    "\n",
    "Set of algorithm for solving the dynamic connectivity problem, there are two types, Quick Find and Quick union"
   ]
  },
  {
   "cell_type": "markdown",
   "metadata": {},
   "source": [
    "<hr>"
   ]
  },
  {
   "cell_type": "markdown",
   "metadata": {},
   "source": [
    "The goal of this algorithm is to find if any two elements are connected. If not connected, then connect them. This problem is also called dynamic connectivity problem. This connection is an equivalence relationship. We assume that:\n",
    "\n",
    "- Symmetric: If p is connected to q, then q is also connected to p.\n",
    "- Transitive: If p is connected to q and q is connected to r, p is connected to r as well.\n",
    "- Reflexive: p is connected to p."
   ]
  },
  {
   "cell_type": "markdown",
   "metadata": {},
   "source": [
    "### QUICK FIND [Eager Approach]"
   ]
  },
  {
   "cell_type": "markdown",
   "metadata": {},
   "source": [
    "This quick find algorithm is called eager algorithm to solve so called dynamic connectivity problem.  The structure of the data includes an integer array id[] of size N. N is any integer. Integer array id[] is supposed to be a range from 0 to N-1. p and q are 2 integers in the id array. p and q are connected if they have the same id."
   ]
  },
  {
   "cell_type": "code",
   "execution_count": 1,
   "metadata": {},
   "outputs": [],
   "source": [
    "# In this constructor first we will generate an array of range N. Each element is an id that is the same as the \n",
    "# element position starting from 0. Such as id of position 1 is 1, id of position 0 is 0, id of position 7 is 7.\n",
    "\n",
    "class QuickFind(object):  \n",
    "    def __init__(self,N):\n",
    "        self.lst = list(range(N))\n",
    "#Develop a class ‘connect’ that takes two inputs p and q. \n",
    "#It returns a Boolean that indicates if they are already connected. \n",
    "#If this class returns yes, then the algorithm doesn’t do anything. \n",
    "#But if it returns no, then the algorithm implements the union operation that connects p and q.\n",
    "        \n",
    "    def find(self,p,q):\n",
    "        return self.lst[p] == self.lst[q]\n",
    "#Develop a class named ‘union’ that connects p and q. Iterate through the array id. \n",
    "#Where you find the id of p, change it to id of q.\n",
    "\n",
    "    def union(self,p,q):\n",
    "        pid = self.lst[p]\n",
    "\n",
    "        qid = self.lst[q]\n",
    "\n",
    "        for ind, x in enumerate(self.lst):\n",
    "\n",
    "            if x == pid:\n",
    "\n",
    "                self.lst[ind] = qid"
   ]
  },
  {
   "cell_type": "markdown",
   "metadata": {},
   "source": [
    "Both constructor and union class have a for loop that touches the entire array. Connect is the only class that enters the array only once. Union operation touches the entire array every time it does an union of a p with a q. In the worst case, to connect the whole array together, it will touch the entire array N times. That means,  it will operate N operations on N element. It takes NxN array access. That why, union operation in quick find is too expensive.  \n",
    "\n",
    "This is quadratic time and we can not accept the quadratic time, As computers get faster and bigger, quadratic algorithms actually get slower. "
   ]
  },
  {
   "cell_type": "markdown",
   "metadata": {},
   "source": [
    "### QUICK UNION [Lazy Approach]"
   ]
  },
  {
   "cell_type": "markdown",
   "metadata": {},
   "source": [
    "This algorithm try to avoid doing work untill it has to.\n",
    "\n",
    "Data Sturcture:\n",
    "- Integer array `id[]` of size N. \n",
    "- Interpretation: `id[i]` is parent of i.\n",
    "- Root of i is `id[id[id[....id[i]....]]]`\n",
    "\n",
    "Find: Check if p and q have the same root.\n",
    "\n",
    "Union: To merge components containing p and q, set the id of p's root to the id of q's root. "
   ]
  }
 ],
 "metadata": {
  "kernelspec": {
   "display_name": "Python 3",
   "language": "python",
   "name": "python3"
  },
  "language_info": {
   "codemirror_mode": {
    "name": "ipython",
    "version": 3
   },
   "file_extension": ".py",
   "mimetype": "text/x-python",
   "name": "python",
   "nbconvert_exporter": "python",
   "pygments_lexer": "ipython3",
   "version": "3.11.3"
  }
 },
 "nbformat": 4,
 "nbformat_minor": 2
}
